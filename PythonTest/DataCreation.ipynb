{
 "cells": [
  {
   "cell_type": "code",
   "execution_count": 33,
   "metadata": {},
   "outputs": [
    {
     "data": {
      "image/png": "[encoded data removed]",
      "text/plain": [
       "<Figure size 640x480 with 1 Axes>"
      ]
     },
     "metadata": {},
     "output_type": "display_data"
    }
   ],
   "source": [
    "def parabol(x, shift,maximum):\n",
    "    # function should be maximum at x=shift\n",
    "    #should be 0 at x=0\n",
    "    a = -maximum/(shift**2)\n",
    "    return (a*(x-shift)**2 + maximum)*1000\n",
    "\n",
    "def linear(x, slope, intercept):\n",
    "    return (slope*x + intercept)\n",
    "\n",
    "def flat(x, value):\n",
    "    return value\n",
    "\n",
    "def derivative_of_parabol(x, shift, maximum):\n",
    "    a = -maximum/(shift**2)\n",
    "    return 2*a*(x-shift)*1000\n",
    "\n",
    "def derivative_of_linear(x, slope):\n",
    "    return slope\n",
    "\n",
    "def sec_derivative_of_parabol(x, shift, maximum):\n",
    "    a = -maximum/(shift**2)\n",
    "    return 2*a*1000\n",
    "\n",
    "def sec_derivative_of_linear(x, slope):\n",
    "    return 0\n",
    "\n",
    "def pos(x):\n",
    "    if x< 100:\n",
    "        return 0\n",
    "    elif x < 150:\n",
    "        return parabol(x-100,50,9)\n",
    "    elif x < 500:\n",
    "        return linear(x-100,-24,10200)\n",
    "    else:\n",
    "        return max(linear(x-100,-10,4500),0)\n",
    "\n",
    "def vel(x):\n",
    "    if x < 100:\n",
    "        return 0\n",
    "    elif x < 150:\n",
    "        return derivative_of_parabol(x-100,50,9)\n",
    "    elif x < 500:\n",
    "        return derivative_of_linear(x-100,-24)\n",
    "    elif x < 550:\n",
    "        return derivative_of_linear(x-100,-10)\n",
    "    else:\n",
    "        return 0\n",
    "    \n",
    "def acc(x):\n",
    "    if x < 100:\n",
    "        return 0\n",
    "    elif x < 150:\n",
    "        return sec_derivative_of_parabol(x-100,50,9)\n",
    "    else:\n",
    "        return 0\n",
    "\n",
    "\n",
    "\n",
    "\n",
    "    \n",
    "\"\"\"for i in range(0,500):\n",
    "    print(i, parabol(i,50,9), linear(i,-24,10200), linear(i,-10,4500))\"\"\"\n",
    "    \n",
    "\n",
    "import matplotlib.pyplot as plt\n",
    "import numpy as np\n",
    "#plot position \n",
    "\n",
    "x = np.arange(0, 1000, 0.1)\n",
    "y = [pos(i) for i in x]\n",
    "plt.plot(x, y)\n",
    "plt.xlabel('x')\n",
    "plt.ylabel('y')\n",
    "plt.title('Position')\n",
    "plt.show()\n",
    "\n",
    "\n",
    "\n",
    "\n",
    "\n",
    "\n"
   ]
  },
  {
   "cell_type": "code",
   "execution_count": 36,
   "metadata": {},
   "outputs": [
    {
     "name": "stdout",
     "output_type": "stream",
     "text": [
      "Index(['altitude(m)', 'velocity(m/s)', 'Time(ms)', 'acceleration',\n",
      "       'pressure(Pa)'],\n",
      "      dtype='object')\n"
     ]
    }
   ],
   "source": [
    "import pandas as pd\n",
    "import numpy as np\n",
    "\n",
    "#check original data\n",
    "data = pd.read_csv('data.csv')\n",
    "print(data.columns)"
   ]
  },
  {
   "cell_type": "code",
   "execution_count": 60,
   "metadata": {},
   "outputs": [],
   "source": [
    "#create a new dataframe with the same columns\n",
    "new_data = pd.DataFrame(columns = data.columns)\n",
    "\n",
    "#add the new data\n",
    "new_data['Time(ms)'] = data['Time(ms)']\n",
    "new_data['altitude(m)'] = [pos(i) for i in data['Time(ms)']]\n",
    "new_data['velocity(m/s)'] = [vel(i) for i in data['Time(ms)']]\n",
    "new_data['acceleration'] = [f\"({acc(i)},0,0)\" for i in data['Time(ms)']]\n",
    "new_data['pressure(Pa)'] = data['pressure(Pa)']\n",
    "\n",
    "\n"
   ]
  },
  {
   "cell_type": "code",
   "execution_count": 61,
   "metadata": {},
   "outputs": [],
   "source": [
    "# save the new data\n",
    "\n",
    "new_data.to_csv('new_data1.csv', index=False)"
   ]
  }
 ],
 "metadata": {
  "kernelspec": {
   "display_name": "Python 3",
   "language": "python",
   "name": "python3"
  },
  "language_info": {
   "codemirror_mode": {
    "name": "ipython",
    "version": 3
   },
   "file_extension": ".py",
   "mimetype": "text/x-python",
   "name": "python",
   "nbconvert_exporter": "python",
   "pygments_lexer": "ipython3",
   "version": "3.10.12"
  }
 },
 "nbformat": 4,
 "nbformat_minor": 2
}
